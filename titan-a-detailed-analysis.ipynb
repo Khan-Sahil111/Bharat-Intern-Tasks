{
 "cells": [
  {
   "cell_type": "code",
   "execution_count": 1,
   "id": "bf8b5193",
   "metadata": {
    "execution": {
     "iopub.execute_input": "2023-10-23T00:39:14.310322Z",
     "iopub.status.busy": "2023-10-23T00:39:14.309780Z",
     "iopub.status.idle": "2023-10-23T00:39:16.130088Z",
     "shell.execute_reply": "2023-10-23T00:39:16.128861Z"
    },
    "papermill": {
     "duration": 1.840452,
     "end_time": "2023-10-23T00:39:16.132900",
     "exception": false,
     "start_time": "2023-10-23T00:39:14.292448",
     "status": "completed"
    },
    "tags": []
   },
   "outputs": [],
   "source": [
    "import numpy as np\n",
    "import pandas as pd\n",
    "import seaborn as sns\n",
    "import matplotlib.pyplot as plt\n",
    "%matplotlib inline"
   ]
  },
  {
   "cell_type": "code",
   "execution_count": 2,
   "id": "a35285b1",
   "metadata": {
    "execution": {
     "iopub.execute_input": "2023-10-23T00:39:16.166540Z",
     "iopub.status.busy": "2023-10-23T00:39:16.166137Z",
     "iopub.status.idle": "2023-10-23T00:39:16.191232Z",
     "shell.execute_reply": "2023-10-23T00:39:16.190092Z"
    },
    "papermill": {
     "duration": 0.045492,
     "end_time": "2023-10-23T00:39:16.194408",
     "exception": false,
     "start_time": "2023-10-23T00:39:16.148916",
     "status": "completed"
    },
    "tags": []
   },
   "outputs": [],
   "source": [
    "titan = pd.read_csv(\"train.csv\")"
   ]
  },
  {
   "cell_type": "code",
   "execution_count": 3,
   "id": "4dd51faa",
   "metadata": {
    "execution": {
     "iopub.execute_input": "2023-10-23T00:39:16.228957Z",
     "iopub.status.busy": "2023-10-23T00:39:16.228545Z",
     "iopub.status.idle": "2023-10-23T00:39:16.258621Z",
     "shell.execute_reply": "2023-10-23T00:39:16.257333Z"
    },
    "papermill": {
     "duration": 0.050441,
     "end_time": "2023-10-23T00:39:16.261216",
     "exception": false,
     "start_time": "2023-10-23T00:39:16.210775",
     "status": "completed"
    },
    "tags": []
   },
   "outputs": [
    {
     "data": {
      "text/html": [
       "<div>\n",
       "<style scoped>\n",
       "    .dataframe tbody tr th:only-of-type {\n",
       "        vertical-align: middle;\n",
       "    }\n",
       "\n",
       "    .dataframe tbody tr th {\n",
       "        vertical-align: top;\n",
       "    }\n",
       "\n",
       "    .dataframe thead th {\n",
       "        text-align: right;\n",
       "    }\n",
       "</style>\n",
       "<table border=\"1\" class=\"dataframe\">\n",
       "  <thead>\n",
       "    <tr style=\"text-align: right;\">\n",
       "      <th></th>\n",
       "      <th>PassengerId</th>\n",
       "      <th>Survived</th>\n",
       "      <th>Pclass</th>\n",
       "      <th>Name</th>\n",
       "      <th>Sex</th>\n",
       "      <th>Age</th>\n",
       "      <th>SibSp</th>\n",
       "      <th>Parch</th>\n",
       "      <th>Ticket</th>\n",
       "      <th>Fare</th>\n",
       "      <th>Cabin</th>\n",
       "      <th>Embarked</th>\n",
       "    </tr>\n",
       "  </thead>\n",
       "  <tbody>\n",
       "    <tr>\n",
       "      <th>0</th>\n",
       "      <td>1</td>\n",
       "      <td>0</td>\n",
       "      <td>3</td>\n",
       "      <td>Braund, Mr. Owen Harris</td>\n",
       "      <td>male</td>\n",
       "      <td>22.0</td>\n",
       "      <td>1</td>\n",
       "      <td>0</td>\n",
       "      <td>A/5 21171</td>\n",
       "      <td>7.2500</td>\n",
       "      <td>NaN</td>\n",
       "      <td>S</td>\n",
       "    </tr>\n",
       "    <tr>\n",
       "      <th>1</th>\n",
       "      <td>2</td>\n",
       "      <td>1</td>\n",
       "      <td>1</td>\n",
       "      <td>Cumings, Mrs. John Bradley (Florence Briggs Th...</td>\n",
       "      <td>female</td>\n",
       "      <td>38.0</td>\n",
       "      <td>1</td>\n",
       "      <td>0</td>\n",
       "      <td>PC 17599</td>\n",
       "      <td>71.2833</td>\n",
       "      <td>C85</td>\n",
       "      <td>C</td>\n",
       "    </tr>\n",
       "    <tr>\n",
       "      <th>2</th>\n",
       "      <td>3</td>\n",
       "      <td>1</td>\n",
       "      <td>3</td>\n",
       "      <td>Heikkinen, Miss. Laina</td>\n",
       "      <td>female</td>\n",
       "      <td>26.0</td>\n",
       "      <td>0</td>\n",
       "      <td>0</td>\n",
       "      <td>STON/O2. 3101282</td>\n",
       "      <td>7.9250</td>\n",
       "      <td>NaN</td>\n",
       "      <td>S</td>\n",
       "    </tr>\n",
       "    <tr>\n",
       "      <th>3</th>\n",
       "      <td>4</td>\n",
       "      <td>1</td>\n",
       "      <td>1</td>\n",
       "      <td>Futrelle, Mrs. Jacques Heath (Lily May Peel)</td>\n",
       "      <td>female</td>\n",
       "      <td>35.0</td>\n",
       "      <td>1</td>\n",
       "      <td>0</td>\n",
       "      <td>113803</td>\n",
       "      <td>53.1000</td>\n",
       "      <td>C123</td>\n",
       "      <td>S</td>\n",
       "    </tr>\n",
       "    <tr>\n",
       "      <th>4</th>\n",
       "      <td>5</td>\n",
       "      <td>0</td>\n",
       "      <td>3</td>\n",
       "      <td>Allen, Mr. William Henry</td>\n",
       "      <td>male</td>\n",
       "      <td>35.0</td>\n",
       "      <td>0</td>\n",
       "      <td>0</td>\n",
       "      <td>373450</td>\n",
       "      <td>8.0500</td>\n",
       "      <td>NaN</td>\n",
       "      <td>S</td>\n",
       "    </tr>\n",
       "  </tbody>\n",
       "</table>\n",
       "</div>"
      ],
      "text/plain": [
       "   PassengerId  Survived  Pclass  \\\n",
       "0            1         0       3   \n",
       "1            2         1       1   \n",
       "2            3         1       3   \n",
       "3            4         1       1   \n",
       "4            5         0       3   \n",
       "\n",
       "                                                Name     Sex   Age  SibSp  \\\n",
       "0                            Braund, Mr. Owen Harris    male  22.0      1   \n",
       "1  Cumings, Mrs. John Bradley (Florence Briggs Th...  female  38.0      1   \n",
       "2                             Heikkinen, Miss. Laina  female  26.0      0   \n",
       "3       Futrelle, Mrs. Jacques Heath (Lily May Peel)  female  35.0      1   \n",
       "4                           Allen, Mr. William Henry    male  35.0      0   \n",
       "\n",
       "   Parch            Ticket     Fare Cabin Embarked  \n",
       "0      0         A/5 21171   7.2500   NaN        S  \n",
       "1      0          PC 17599  71.2833   C85        C  \n",
       "2      0  STON/O2. 3101282   7.9250   NaN        S  \n",
       "3      0            113803  53.1000  C123        S  \n",
       "4      0            373450   8.0500   NaN        S  "
      ]
     },
     "execution_count": 3,
     "metadata": {},
     "output_type": "execute_result"
    }
   ],
   "source": [
    "titan.head()"
   ]
  },
  {
   "cell_type": "code",
   "execution_count": 4,
   "id": "8f9d93f1",
   "metadata": {
    "execution": {
     "iopub.execute_input": "2023-10-23T00:39:16.296728Z",
     "iopub.status.busy": "2023-10-23T00:39:16.295559Z",
     "iopub.status.idle": "2023-10-23T00:39:16.326906Z",
     "shell.execute_reply": "2023-10-23T00:39:16.325542Z"
    },
    "papermill": {
     "duration": 0.052073,
     "end_time": "2023-10-23T00:39:16.329844",
     "exception": false,
     "start_time": "2023-10-23T00:39:16.277771",
     "status": "completed"
    },
    "tags": []
   },
   "outputs": [
    {
     "name": "stdout",
     "output_type": "stream",
     "text": [
      "<class 'pandas.core.frame.DataFrame'>\n",
      "RangeIndex: 891 entries, 0 to 890\n",
      "Data columns (total 12 columns):\n",
      " #   Column       Non-Null Count  Dtype  \n",
      "---  ------       --------------  -----  \n",
      " 0   PassengerId  891 non-null    int64  \n",
      " 1   Survived     891 non-null    int64  \n",
      " 2   Pclass       891 non-null    int64  \n",
      " 3   Name         891 non-null    object \n",
      " 4   Sex          891 non-null    object \n",
      " 5   Age          714 non-null    float64\n",
      " 6   SibSp        891 non-null    int64  \n",
      " 7   Parch        891 non-null    int64  \n",
      " 8   Ticket       891 non-null    object \n",
      " 9   Fare         891 non-null    float64\n",
      " 10  Cabin        204 non-null    object \n",
      " 11  Embarked     889 non-null    object \n",
      "dtypes: float64(2), int64(5), object(5)\n",
      "memory usage: 83.7+ KB\n"
     ]
    }
   ],
   "source": [
    "titan.info()"
   ]
  },
  {
   "cell_type": "markdown",
   "id": "5de559fb",
   "metadata": {
    "papermill": {
     "duration": 0.016485,
     "end_time": "2023-10-23T00:39:16.362962",
     "exception": false,
     "start_time": "2023-10-23T00:39:16.346477",
     "status": "completed"
    },
    "tags": []
   },
   "source": [
    "# # Checking null values"
   ]
  },
  {
   "cell_type": "code",
   "execution_count": 5,
   "id": "a1abb5f1",
   "metadata": {
    "execution": {
     "iopub.execute_input": "2023-10-23T00:39:16.397909Z",
     "iopub.status.busy": "2023-10-23T00:39:16.397458Z",
     "iopub.status.idle": "2023-10-23T00:39:16.428596Z",
     "shell.execute_reply": "2023-10-23T00:39:16.427454Z"
    },
    "papermill": {
     "duration": 0.051813,
     "end_time": "2023-10-23T00:39:16.431253",
     "exception": false,
     "start_time": "2023-10-23T00:39:16.379440",
     "status": "completed"
    },
    "tags": []
   },
   "outputs": [
    {
     "data": {
      "text/html": [
       "<div>\n",
       "<style scoped>\n",
       "    .dataframe tbody tr th:only-of-type {\n",
       "        vertical-align: middle;\n",
       "    }\n",
       "\n",
       "    .dataframe tbody tr th {\n",
       "        vertical-align: top;\n",
       "    }\n",
       "\n",
       "    .dataframe thead th {\n",
       "        text-align: right;\n",
       "    }\n",
       "</style>\n",
       "<table border=\"1\" class=\"dataframe\">\n",
       "  <thead>\n",
       "    <tr style=\"text-align: right;\">\n",
       "      <th></th>\n",
       "      <th>PassengerId</th>\n",
       "      <th>Survived</th>\n",
       "      <th>Pclass</th>\n",
       "      <th>Name</th>\n",
       "      <th>Sex</th>\n",
       "      <th>Age</th>\n",
       "      <th>SibSp</th>\n",
       "      <th>Parch</th>\n",
       "      <th>Ticket</th>\n",
       "      <th>Fare</th>\n",
       "      <th>Cabin</th>\n",
       "      <th>Embarked</th>\n",
       "    </tr>\n",
       "  </thead>\n",
       "  <tbody>\n",
       "    <tr>\n",
       "      <th>0</th>\n",
       "      <td>False</td>\n",
       "      <td>False</td>\n",
       "      <td>False</td>\n",
       "      <td>False</td>\n",
       "      <td>False</td>\n",
       "      <td>False</td>\n",
       "      <td>False</td>\n",
       "      <td>False</td>\n",
       "      <td>False</td>\n",
       "      <td>False</td>\n",
       "      <td>True</td>\n",
       "      <td>False</td>\n",
       "    </tr>\n",
       "    <tr>\n",
       "      <th>1</th>\n",
       "      <td>False</td>\n",
       "      <td>False</td>\n",
       "      <td>False</td>\n",
       "      <td>False</td>\n",
       "      <td>False</td>\n",
       "      <td>False</td>\n",
       "      <td>False</td>\n",
       "      <td>False</td>\n",
       "      <td>False</td>\n",
       "      <td>False</td>\n",
       "      <td>False</td>\n",
       "      <td>False</td>\n",
       "    </tr>\n",
       "    <tr>\n",
       "      <th>2</th>\n",
       "      <td>False</td>\n",
       "      <td>False</td>\n",
       "      <td>False</td>\n",
       "      <td>False</td>\n",
       "      <td>False</td>\n",
       "      <td>False</td>\n",
       "      <td>False</td>\n",
       "      <td>False</td>\n",
       "      <td>False</td>\n",
       "      <td>False</td>\n",
       "      <td>True</td>\n",
       "      <td>False</td>\n",
       "    </tr>\n",
       "    <tr>\n",
       "      <th>3</th>\n",
       "      <td>False</td>\n",
       "      <td>False</td>\n",
       "      <td>False</td>\n",
       "      <td>False</td>\n",
       "      <td>False</td>\n",
       "      <td>False</td>\n",
       "      <td>False</td>\n",
       "      <td>False</td>\n",
       "      <td>False</td>\n",
       "      <td>False</td>\n",
       "      <td>False</td>\n",
       "      <td>False</td>\n",
       "    </tr>\n",
       "    <tr>\n",
       "      <th>4</th>\n",
       "      <td>False</td>\n",
       "      <td>False</td>\n",
       "      <td>False</td>\n",
       "      <td>False</td>\n",
       "      <td>False</td>\n",
       "      <td>False</td>\n",
       "      <td>False</td>\n",
       "      <td>False</td>\n",
       "      <td>False</td>\n",
       "      <td>False</td>\n",
       "      <td>True</td>\n",
       "      <td>False</td>\n",
       "    </tr>\n",
       "    <tr>\n",
       "      <th>...</th>\n",
       "      <td>...</td>\n",
       "      <td>...</td>\n",
       "      <td>...</td>\n",
       "      <td>...</td>\n",
       "      <td>...</td>\n",
       "      <td>...</td>\n",
       "      <td>...</td>\n",
       "      <td>...</td>\n",
       "      <td>...</td>\n",
       "      <td>...</td>\n",
       "      <td>...</td>\n",
       "      <td>...</td>\n",
       "    </tr>\n",
       "    <tr>\n",
       "      <th>886</th>\n",
       "      <td>False</td>\n",
       "      <td>False</td>\n",
       "      <td>False</td>\n",
       "      <td>False</td>\n",
       "      <td>False</td>\n",
       "      <td>False</td>\n",
       "      <td>False</td>\n",
       "      <td>False</td>\n",
       "      <td>False</td>\n",
       "      <td>False</td>\n",
       "      <td>True</td>\n",
       "      <td>False</td>\n",
       "    </tr>\n",
       "    <tr>\n",
       "      <th>887</th>\n",
       "      <td>False</td>\n",
       "      <td>False</td>\n",
       "      <td>False</td>\n",
       "      <td>False</td>\n",
       "      <td>False</td>\n",
       "      <td>False</td>\n",
       "      <td>False</td>\n",
       "      <td>False</td>\n",
       "      <td>False</td>\n",
       "      <td>False</td>\n",
       "      <td>False</td>\n",
       "      <td>False</td>\n",
       "    </tr>\n",
       "    <tr>\n",
       "      <th>888</th>\n",
       "      <td>False</td>\n",
       "      <td>False</td>\n",
       "      <td>False</td>\n",
       "      <td>False</td>\n",
       "      <td>False</td>\n",
       "      <td>True</td>\n",
       "      <td>False</td>\n",
       "      <td>False</td>\n",
       "      <td>False</td>\n",
       "      <td>False</td>\n",
       "      <td>True</td>\n",
       "      <td>False</td>\n",
       "    </tr>\n",
       "    <tr>\n",
       "      <th>889</th>\n",
       "      <td>False</td>\n",
       "      <td>False</td>\n",
       "      <td>False</td>\n",
       "      <td>False</td>\n",
       "      <td>False</td>\n",
       "      <td>False</td>\n",
       "      <td>False</td>\n",
       "      <td>False</td>\n",
       "      <td>False</td>\n",
       "      <td>False</td>\n",
       "      <td>False</td>\n",
       "      <td>False</td>\n",
       "    </tr>\n",
       "    <tr>\n",
       "      <th>890</th>\n",
       "      <td>False</td>\n",
       "      <td>False</td>\n",
       "      <td>False</td>\n",
       "      <td>False</td>\n",
       "      <td>False</td>\n",
       "      <td>False</td>\n",
       "      <td>False</td>\n",
       "      <td>False</td>\n",
       "      <td>False</td>\n",
       "      <td>False</td>\n",
       "      <td>True</td>\n",
       "      <td>False</td>\n",
       "    </tr>\n",
       "  </tbody>\n",
       "</table>\n",
       "<p>891 rows × 12 columns</p>\n",
       "</div>"
      ],
      "text/plain": [
       "     PassengerId  Survived  Pclass   Name    Sex    Age  SibSp  Parch  Ticket  \\\n",
       "0          False     False   False  False  False  False  False  False   False   \n",
       "1          False     False   False  False  False  False  False  False   False   \n",
       "2          False     False   False  False  False  False  False  False   False   \n",
       "3          False     False   False  False  False  False  False  False   False   \n",
       "4          False     False   False  False  False  False  False  False   False   \n",
       "..           ...       ...     ...    ...    ...    ...    ...    ...     ...   \n",
       "886        False     False   False  False  False  False  False  False   False   \n",
       "887        False     False   False  False  False  False  False  False   False   \n",
       "888        False     False   False  False  False   True  False  False   False   \n",
       "889        False     False   False  False  False  False  False  False   False   \n",
       "890        False     False   False  False  False  False  False  False   False   \n",
       "\n",
       "      Fare  Cabin  Embarked  \n",
       "0    False   True     False  \n",
       "1    False  False     False  \n",
       "2    False   True     False  \n",
       "3    False  False     False  \n",
       "4    False   True     False  \n",
       "..     ...    ...       ...  \n",
       "886  False   True     False  \n",
       "887  False  False     False  \n",
       "888  False   True     False  \n",
       "889  False  False     False  \n",
       "890  False   True     False  \n",
       "\n",
       "[891 rows x 12 columns]"
      ]
     },
     "execution_count": 5,
     "metadata": {},
     "output_type": "execute_result"
    }
   ],
   "source": [
    "titan.isnull()"
   ]
  },
  {
   "cell_type": "code",
   "execution_count": 6,
   "id": "acb92f8a",
   "metadata": {
    "execution": {
     "iopub.execute_input": "2023-10-23T00:39:16.468883Z",
     "iopub.status.busy": "2023-10-23T00:39:16.468060Z",
     "iopub.status.idle": "2023-10-23T00:39:16.478380Z",
     "shell.execute_reply": "2023-10-23T00:39:16.477045Z"
    },
    "papermill": {
     "duration": 0.032195,
     "end_time": "2023-10-23T00:39:16.480964",
     "exception": false,
     "start_time": "2023-10-23T00:39:16.448769",
     "status": "completed"
    },
    "tags": []
   },
   "outputs": [
    {
     "data": {
      "text/plain": [
       "PassengerId      0\n",
       "Survived         0\n",
       "Pclass           0\n",
       "Name             0\n",
       "Sex              0\n",
       "Age            177\n",
       "SibSp            0\n",
       "Parch            0\n",
       "Ticket           0\n",
       "Fare             0\n",
       "Cabin          687\n",
       "Embarked         2\n",
       "dtype: int64"
      ]
     },
     "execution_count": 6,
     "metadata": {},
     "output_type": "execute_result"
    }
   ],
   "source": [
    "titan.isnull().sum()"
   ]
  },
  {
   "cell_type": "code",
   "execution_count": 7,
   "id": "0f0f3c3c",
   "metadata": {
    "execution": {
     "iopub.execute_input": "2023-10-23T00:39:16.517875Z",
     "iopub.status.busy": "2023-10-23T00:39:16.517458Z",
     "iopub.status.idle": "2023-10-23T00:39:16.800262Z",
     "shell.execute_reply": "2023-10-23T00:39:16.798864Z"
    },
    "papermill": {
     "duration": 0.304802,
     "end_time": "2023-10-23T00:39:16.802968",
     "exception": false,
     "start_time": "2023-10-23T00:39:16.498166",
     "status": "completed"
    },
    "tags": []
   },
   "outputs": [
    {
     "data": {
      "text/plain": [
       "<Axes: >"
      ]
     },
     "execution_count": 7,
     "metadata": {},
     "output_type": "execute_result"
    },
    {
     "data": {
      "image/png": "[encoded data removed]",
      "text/plain": [
       "<Figure size 640x480 with 1 Axes>"
      ]
     },
     "metadata": {},
     "output_type": "display_data"
    }
   ],
   "source": [
    "sns.heatmap(titan.isnull(),yticklabels=False,cbar=False,cmap='viridis')"
   ]
  },
  {
   "cell_type": "markdown",
   "id": "307afb9d",
   "metadata": {
    "papermill": {
     "duration": 0.017724,
     "end_time": "2023-10-23T00:39:16.838960",
     "exception": false,
     "start_time": "2023-10-23T00:39:16.821236",
     "status": "completed"
    },
    "tags": []
   },
   "source": [
    "# Imputation"
   ]
  },
  {
   "cell_type": "code",
   "execution_count": 8,
   "id": "c7d864eb",
   "metadata": {
    "execution": {
     "iopub.execute_input": "2023-10-23T00:39:16.877329Z",
     "iopub.status.busy": "2023-10-23T00:39:16.876865Z",
     "iopub.status.idle": "2023-10-23T00:39:16.884427Z",
     "shell.execute_reply": "2023-10-23T00:39:16.883028Z"
    },
    "papermill": {
     "duration": 0.030298,
     "end_time": "2023-10-23T00:39:16.887108",
     "exception": false,
     "start_time": "2023-10-23T00:39:16.856810",
     "status": "completed"
    },
    "tags": []
   },
   "outputs": [],
   "source": [
    "#Inputation\n",
    "\n",
    "def impute_age(cols):\n",
    "    age = cols[0]\n",
    "    Pclass = cols[1]\n",
    "    if pd.isnull(age):\n",
    "        if Pclass==1:\n",
    "            return 37\n",
    "        elif Pclass==2:\n",
    "            return 29\n",
    "        else:\n",
    "            return 24\n",
    "    else:\n",
    "        return  age"
   ]
  },
  {
   "cell_type": "code",
   "execution_count": 9,
   "id": "004cfac0",
   "metadata": {
    "execution": {
     "iopub.execute_input": "2023-10-23T00:39:16.925711Z",
     "iopub.status.busy": "2023-10-23T00:39:16.925246Z",
     "iopub.status.idle": "2023-10-23T00:39:16.948098Z",
     "shell.execute_reply": "2023-10-23T00:39:16.946422Z"
    },
    "papermill": {
     "duration": 0.045524,
     "end_time": "2023-10-23T00:39:16.951142",
     "exception": false,
     "start_time": "2023-10-23T00:39:16.905618",
     "status": "completed"
    },
    "tags": []
   },
   "outputs": [],
   "source": [
    "titan[\"Age\"] = titan[['Age','Pclass']].apply(impute_age,axis=1)"
   ]
  },
  {
   "cell_type": "code",
   "execution_count": 10,
   "id": "070e4a7e",
   "metadata": {
    "execution": {
     "iopub.execute_input": "2023-10-23T00:39:17.057462Z",
     "iopub.status.busy": "2023-10-23T00:39:17.056520Z",
     "iopub.status.idle": "2023-10-23T00:39:17.333191Z",
     "shell.execute_reply": "2023-10-23T00:39:17.332022Z"
    },
    "papermill": {
     "duration": 0.299314,
     "end_time": "2023-10-23T00:39:17.336028",
     "exception": false,
     "start_time": "2023-10-23T00:39:17.036714",
     "status": "completed"
    },
    "tags": []
   },
   "outputs": [
    {
     "data": {
      "text/plain": [
       "<Axes: >"
      ]
     },
     "execution_count": 10,
     "metadata": {},
     "output_type": "execute_result"
    },
    {
     "data": {
      "image/png": "[encoded data removed]",
      "text/plain": [
       "<Figure size 640x480 with 1 Axes>"
      ]
     },
     "metadata": {},
     "output_type": "display_data"
    }
   ],
   "source": [
    "sns.heatmap(titan.isnull(),yticklabels=False,cbar=False,cmap='viridis')"
   ]
  },
  {
   "cell_type": "code",
   "execution_count": 11,
   "id": "fb771a1d",
   "metadata": {
    "execution": {
     "iopub.execute_input": "2023-10-23T00:39:17.375216Z",
     "iopub.status.busy": "2023-10-23T00:39:17.374738Z",
     "iopub.status.idle": "2023-10-23T00:39:17.383708Z",
     "shell.execute_reply": "2023-10-23T00:39:17.382698Z"
    },
    "papermill": {
     "duration": 0.031749,
     "end_time": "2023-10-23T00:39:17.386425",
     "exception": false,
     "start_time": "2023-10-23T00:39:17.354676",
     "status": "completed"
    },
    "tags": []
   },
   "outputs": [],
   "source": [
    "titan.drop('Cabin',axis=1,inplace=True)\n",
    "titan.dropna(inplace=True)"
   ]
  },
  {
   "cell_type": "code",
   "execution_count": 12,
   "id": "ad536dae",
   "metadata": {
    "execution": {
     "iopub.execute_input": "2023-10-23T00:39:17.427687Z",
     "iopub.status.busy": "2023-10-23T00:39:17.426633Z",
     "iopub.status.idle": "2023-10-23T00:39:17.692362Z",
     "shell.execute_reply": "2023-10-23T00:39:17.691027Z"
    },
    "papermill": {
     "duration": 0.289435,
     "end_time": "2023-10-23T00:39:17.695231",
     "exception": false,
     "start_time": "2023-10-23T00:39:17.405796",
     "status": "completed"
    },
    "tags": []
   },
   "outputs": [
    {
     "data": {
      "text/plain": [
       "<Axes: >"
      ]
     },
     "execution_count": 12,
     "metadata": {},
     "output_type": "execute_result"
    },
    {
     "data": {
      "image/png": "[encoded data removed]",
      "text/plain": [
       "<Figure size 640x480 with 1 Axes>"
      ]
     },
     "metadata": {},
     "output_type": "display_data"
    }
   ],
   "source": [
    "sns.heatmap(titan.isnull(),yticklabels=False,cbar=False,cmap='viridis')"
   ]
  },
  {
   "cell_type": "code",
   "execution_count": 13,
   "id": "07e71198",
   "metadata": {
    "execution": {
     "iopub.execute_input": "2023-10-23T00:39:17.735543Z",
     "iopub.status.busy": "2023-10-23T00:39:17.735146Z",
     "iopub.status.idle": "2023-10-23T00:39:17.739932Z",
     "shell.execute_reply": "2023-10-23T00:39:17.738771Z"
    },
    "papermill": {
     "duration": 0.027607,
     "end_time": "2023-10-23T00:39:17.742328",
     "exception": false,
     "start_time": "2023-10-23T00:39:17.714721",
     "status": "completed"
    },
    "tags": []
   },
   "outputs": [],
   "source": [
    "## Null values are removed"
   ]
  },
  {
   "cell_type": "markdown",
   "id": "f9400ea1",
   "metadata": {
    "papermill": {
     "duration": 0.02004,
     "end_time": "2023-10-23T00:39:17.782068",
     "exception": false,
     "start_time": "2023-10-23T00:39:17.762028",
     "status": "completed"
    },
    "tags": []
   },
   "source": [
    "# # EDA"
   ]
  },
  {
   "cell_type": "code",
   "execution_count": 14,
   "id": "fb6d706f",
   "metadata": {
    "execution": {
     "iopub.execute_input": "2023-10-23T00:39:17.823738Z",
     "iopub.status.busy": "2023-10-23T00:39:17.822673Z",
     "iopub.status.idle": "2023-10-23T00:39:18.116180Z",
     "shell.execute_reply": "2023-10-23T00:39:18.114350Z"
    },
    "papermill": {
     "duration": 0.317417,
     "end_time": "2023-10-23T00:39:18.118978",
     "exception": false,
     "start_time": "2023-10-23T00:39:17.801561",
     "status": "completed"
    },
    "tags": []
   },
   "outputs": [
    {
     "data": {
      "text/plain": [
       "[Text(0, 0, '549'), Text(0, 0, '340')]"
      ]
     },
     "execution_count": 14,
     "metadata": {},
     "output_type": "execute_result"
    },
    {
     "data": {
      "image/png": "[encoded data removed]",
      "text/plain": [
       "<Figure size 640x480 with 1 Axes>"
      ]
     },
     "metadata": {},
     "output_type": "display_data"
    }
   ],
   "source": [
    "sns.set_style('whitegrid')\n",
    "ax = sns.countplot(x='Survived',data=titan)\n",
    "ax.bar_label(ax.containers[0])"
   ]
  },
  {
   "cell_type": "code",
   "execution_count": 15,
   "id": "ec9eecd9",
   "metadata": {
    "execution": {
     "iopub.execute_input": "2023-10-23T00:39:18.163668Z",
     "iopub.status.busy": "2023-10-23T00:39:18.163228Z",
     "iopub.status.idle": "2023-10-23T00:39:18.169063Z",
     "shell.execute_reply": "2023-10-23T00:39:18.167596Z"
    },
    "papermill": {
     "duration": 0.032306,
     "end_time": "2023-10-23T00:39:18.171705",
     "exception": false,
     "start_time": "2023-10-23T00:39:18.139399",
     "status": "completed"
    },
    "tags": []
   },
   "outputs": [],
   "source": [
    "## From above chart we have analysed that 549 are those who hadn't survived."
   ]
  },
  {
   "cell_type": "code",
   "execution_count": 16,
   "id": "b1838d30",
   "metadata": {
    "execution": {
     "iopub.execute_input": "2023-10-23T00:39:18.212009Z",
     "iopub.status.busy": "2023-10-23T00:39:18.211578Z",
     "iopub.status.idle": "2023-10-23T00:39:18.561813Z",
     "shell.execute_reply": "2023-10-23T00:39:18.560439Z"
    },
    "papermill": {
     "duration": 0.373825,
     "end_time": "2023-10-23T00:39:18.564857",
     "exception": false,
     "start_time": "2023-10-23T00:39:18.191032",
     "status": "completed"
    },
    "tags": []
   },
   "outputs": [
    {
     "data": {
      "image/png": "[encoded data removed]",
      "text/plain": [
       "<Figure size 640x480 with 1 Axes>"
      ]
     },
     "metadata": {},
     "output_type": "display_data"
    }
   ],
   "source": [
    "ax = sns.countplot(x='Survived',hue='Sex' ,data=titan)\n",
    "for bars in ax.containers:\n",
    "    ax.bar_label(bars)"
   ]
  },
  {
   "cell_type": "code",
   "execution_count": 17,
   "id": "edda7f6c",
   "metadata": {
    "execution": {
     "iopub.execute_input": "2023-10-23T00:39:18.607829Z",
     "iopub.status.busy": "2023-10-23T00:39:18.607394Z",
     "iopub.status.idle": "2023-10-23T00:39:18.613229Z",
     "shell.execute_reply": "2023-10-23T00:39:18.611731Z"
    },
    "papermill": {
     "duration": 0.030176,
     "end_time": "2023-10-23T00:39:18.615849",
     "exception": false,
     "start_time": "2023-10-23T00:39:18.585673",
     "status": "completed"
    },
    "tags": []
   },
   "outputs": [],
   "source": [
    "## The ratio of un-survived males is more than the females but women had survived most than the men."
   ]
  },
  {
   "cell_type": "code",
   "execution_count": 18,
   "id": "6c8288b8",
   "metadata": {
    "execution": {
     "iopub.execute_input": "2023-10-23T00:39:18.659730Z",
     "iopub.status.busy": "2023-10-23T00:39:18.658765Z",
     "iopub.status.idle": "2023-10-23T00:39:19.049978Z",
     "shell.execute_reply": "2023-10-23T00:39:19.048636Z"
    },
    "papermill": {
     "duration": 0.417774,
     "end_time": "2023-10-23T00:39:19.053640",
     "exception": false,
     "start_time": "2023-10-23T00:39:18.635866",
     "status": "completed"
    },
    "tags": []
   },
   "outputs": [
    {
     "data": {
      "image/png": "[encoded data removed]",
      "text/plain": [
       "<Figure size 640x480 with 1 Axes>"
      ]
     },
     "metadata": {},
     "output_type": "display_data"
    }
   ],
   "source": [
    "ax = sns.countplot(x='Survived',hue='Pclass' ,data=titan)\n",
    "for bars in ax.containers:\n",
    "    ax.bar_label(bars)"
   ]
  },
  {
   "cell_type": "code",
   "execution_count": 19,
   "id": "64a88a74",
   "metadata": {
    "execution": {
     "iopub.execute_input": "2023-10-23T00:39:19.100022Z",
     "iopub.status.busy": "2023-10-23T00:39:19.098983Z",
     "iopub.status.idle": "2023-10-23T00:39:19.103856Z",
     "shell.execute_reply": "2023-10-23T00:39:19.102884Z"
    },
    "papermill": {
     "duration": 0.031502,
     "end_time": "2023-10-23T00:39:19.106318",
     "exception": false,
     "start_time": "2023-10-23T00:39:19.074816",
     "status": "completed"
    },
    "tags": []
   },
   "outputs": [],
   "source": [
    "## The most un-survived peoples are from class 3."
   ]
  },
  {
   "cell_type": "code",
   "execution_count": 20,
   "id": "fd4ed186",
   "metadata": {
    "execution": {
     "iopub.execute_input": "2023-10-23T00:39:19.149338Z",
     "iopub.status.busy": "2023-10-23T00:39:19.148506Z",
     "iopub.status.idle": "2023-10-23T00:39:19.728064Z",
     "shell.execute_reply": "2023-10-23T00:39:19.726764Z"
    },
    "papermill": {
     "duration": 0.604759,
     "end_time": "2023-10-23T00:39:19.731428",
     "exception": false,
     "start_time": "2023-10-23T00:39:19.126669",
     "status": "completed"
    },
    "tags": []
   },
   "outputs": [
    {
     "name": "stderr",
     "output_type": "stream",
     "text": [
      "C:\\Users\\Zia Saab\\AppData\\Local\\Temp\\ipykernel_5684\\90199596.py:1: UserWarning: \n",
      "\n",
      "`distplot` is a deprecated function and will be removed in seaborn v0.14.0.\n",
      "\n",
      "Please adapt your code to use either `displot` (a figure-level function with\n",
      "similar flexibility) or `histplot` (an axes-level function for histograms).\n",
      "\n",
      "For a guide to updating your code to use the new functions, please see\n",
      "https://gist.github.com/mwaskom/de44147ed2974457ad6372750bbe5751\n",
      "\n",
      "  sns.distplot(titan['Age'],kde=False,bins=30)\n"
     ]
    },
    {
     "data": {
      "text/plain": [
       "<Axes: xlabel='Age'>"
      ]
     },
     "execution_count": 20,
     "metadata": {},
     "output_type": "execute_result"
    },
    {
     "data": {
      "image/png": "[encoded data removed]",
      "text/plain": [
       "<Figure size 640x480 with 1 Axes>"
      ]
     },
     "metadata": {},
     "output_type": "display_data"
    }
   ],
   "source": [
    "sns.distplot(titan['Age'],kde=False,bins=30)"
   ]
  },
  {
   "cell_type": "code",
   "execution_count": 21,
   "id": "e0b5c4fd",
   "metadata": {
    "execution": {
     "iopub.execute_input": "2023-10-23T00:39:19.775814Z",
     "iopub.status.busy": "2023-10-23T00:39:19.775390Z",
     "iopub.status.idle": "2023-10-23T00:39:20.346261Z",
     "shell.execute_reply": "2023-10-23T00:39:20.344925Z"
    },
    "papermill": {
     "duration": 0.596732,
     "end_time": "2023-10-23T00:39:20.349081",
     "exception": false,
     "start_time": "2023-10-23T00:39:19.752349",
     "status": "completed"
    },
    "tags": []
   },
   "outputs": [
    {
     "data": {
      "text/plain": [
       "<Axes: ylabel='Frequency'>"
      ]
     },
     "execution_count": 21,
     "metadata": {},
     "output_type": "execute_result"
    },
    {
     "data": {
      "image/png": "[encoded data removed]",
      "text/plain": [
       "<Figure size 640x480 with 1 Axes>"
      ]
     },
     "metadata": {},
     "output_type": "display_data"
    }
   ],
   "source": [
    "titan['Age'].plot.hist(bins=30)"
   ]
  },
  {
   "cell_type": "code",
   "execution_count": 22,
   "id": "b58c261f",
   "metadata": {
    "execution": {
     "iopub.execute_input": "2023-10-23T00:39:20.395478Z",
     "iopub.status.busy": "2023-10-23T00:39:20.395000Z",
     "iopub.status.idle": "2023-10-23T00:39:20.809696Z",
     "shell.execute_reply": "2023-10-23T00:39:20.808197Z"
    },
    "papermill": {
     "duration": 0.440718,
     "end_time": "2023-10-23T00:39:20.812770",
     "exception": false,
     "start_time": "2023-10-23T00:39:20.372052",
     "status": "completed"
    },
    "tags": []
   },
   "outputs": [
    {
     "data": {
      "text/plain": [
       "[Text(0, 0, '606'),\n",
       " Text(0, 0, '209'),\n",
       " Text(0, 0, '28'),\n",
       " Text(0, 0, '16'),\n",
       " Text(0, 0, '18'),\n",
       " Text(0, 0, '5'),\n",
       " Text(0, 0, '7')]"
      ]
     },
     "execution_count": 22,
     "metadata": {},
     "output_type": "execute_result"
    },
    {
     "data": {
      "image/png": "[encoded data removed]",
      "text/plain": [
       "<Figure size 640x480 with 1 Axes>"
      ]
     },
     "metadata": {},
     "output_type": "display_data"
    }
   ],
   "source": [
    "ax = sns.countplot(x='SibSp',data=titan)\n",
    "ax.bar_label(ax.containers[0])"
   ]
  },
  {
   "cell_type": "code",
   "execution_count": 23,
   "id": "86b1df23",
   "metadata": {
    "execution": {
     "iopub.execute_input": "2023-10-23T00:39:20.858562Z",
     "iopub.status.busy": "2023-10-23T00:39:20.858156Z",
     "iopub.status.idle": "2023-10-23T00:39:21.308991Z",
     "shell.execute_reply": "2023-10-23T00:39:21.307536Z"
    },
    "papermill": {
     "duration": 0.476991,
     "end_time": "2023-10-23T00:39:21.311698",
     "exception": false,
     "start_time": "2023-10-23T00:39:20.834707",
     "status": "completed"
    },
    "tags": []
   },
   "outputs": [
    {
     "data": {
      "text/plain": [
       "<Axes: >"
      ]
     },
     "execution_count": 23,
     "metadata": {},
     "output_type": "execute_result"
    },
    {
     "data": {
      "image/png": "[encoded data removed]",
      "text/plain": [
       "<Figure size 640x480 with 1 Axes>"
      ]
     },
     "metadata": {},
     "output_type": "display_data"
    }
   ],
   "source": [
    "titan['Fare'].hist(bins=30)"
   ]
  },
  {
   "cell_type": "code",
   "execution_count": 24,
   "id": "7b5449c9",
   "metadata": {
    "execution": {
     "iopub.execute_input": "2023-10-23T00:39:21.359039Z",
     "iopub.status.busy": "2023-10-23T00:39:21.358509Z",
     "iopub.status.idle": "2023-10-23T00:39:21.704296Z",
     "shell.execute_reply": "2023-10-23T00:39:21.703036Z"
    },
    "papermill": {
     "duration": 0.372185,
     "end_time": "2023-10-23T00:39:21.707001",
     "exception": false,
     "start_time": "2023-10-23T00:39:21.334816",
     "status": "completed"
    },
    "tags": []
   },
   "outputs": [
    {
     "data": {
      "text/plain": [
       "<Axes: xlabel='Pclass', ylabel='Age'>"
      ]
     },
     "execution_count": 24,
     "metadata": {},
     "output_type": "execute_result"
    },
    {
     "data": {
      "image/png": "[encoded data removed]",
      "text/plain": [
       "<Figure size 640x480 with 1 Axes>"
      ]
     },
     "metadata": {},
     "output_type": "display_data"
    }
   ],
   "source": [
    "sns.boxplot(x='Pclass',y='Age',data=titan)"
   ]
  },
  {
   "cell_type": "code",
   "execution_count": 25,
   "id": "91267723",
   "metadata": {
    "execution": {
     "iopub.execute_input": "2023-10-23T00:39:21.756057Z",
     "iopub.status.busy": "2023-10-23T00:39:21.755351Z",
     "iopub.status.idle": "2023-10-23T00:39:21.772682Z",
     "shell.execute_reply": "2023-10-23T00:39:21.771538Z"
    },
    "papermill": {
     "duration": 0.044461,
     "end_time": "2023-10-23T00:39:21.775205",
     "exception": false,
     "start_time": "2023-10-23T00:39:21.730744",
     "status": "completed"
    },
    "tags": []
   },
   "outputs": [
    {
     "data": {
      "text/html": [
       "<div>\n",
       "<style scoped>\n",
       "    .dataframe tbody tr th:only-of-type {\n",
       "        vertical-align: middle;\n",
       "    }\n",
       "\n",
       "    .dataframe tbody tr th {\n",
       "        vertical-align: top;\n",
       "    }\n",
       "\n",
       "    .dataframe thead th {\n",
       "        text-align: right;\n",
       "    }\n",
       "</style>\n",
       "<table border=\"1\" class=\"dataframe\">\n",
       "  <thead>\n",
       "    <tr style=\"text-align: right;\">\n",
       "      <th></th>\n",
       "      <th>PassengerId</th>\n",
       "      <th>Survived</th>\n",
       "      <th>Pclass</th>\n",
       "      <th>Name</th>\n",
       "      <th>Sex</th>\n",
       "      <th>Age</th>\n",
       "      <th>SibSp</th>\n",
       "      <th>Parch</th>\n",
       "      <th>Ticket</th>\n",
       "      <th>Fare</th>\n",
       "      <th>Embarked</th>\n",
       "    </tr>\n",
       "  </thead>\n",
       "  <tbody>\n",
       "    <tr>\n",
       "      <th>0</th>\n",
       "      <td>1</td>\n",
       "      <td>0</td>\n",
       "      <td>3</td>\n",
       "      <td>Braund, Mr. Owen Harris</td>\n",
       "      <td>male</td>\n",
       "      <td>22.0</td>\n",
       "      <td>1</td>\n",
       "      <td>0</td>\n",
       "      <td>A/5 21171</td>\n",
       "      <td>7.2500</td>\n",
       "      <td>S</td>\n",
       "    </tr>\n",
       "    <tr>\n",
       "      <th>1</th>\n",
       "      <td>2</td>\n",
       "      <td>1</td>\n",
       "      <td>1</td>\n",
       "      <td>Cumings, Mrs. John Bradley (Florence Briggs Th...</td>\n",
       "      <td>female</td>\n",
       "      <td>38.0</td>\n",
       "      <td>1</td>\n",
       "      <td>0</td>\n",
       "      <td>PC 17599</td>\n",
       "      <td>71.2833</td>\n",
       "      <td>C</td>\n",
       "    </tr>\n",
       "    <tr>\n",
       "      <th>2</th>\n",
       "      <td>3</td>\n",
       "      <td>1</td>\n",
       "      <td>3</td>\n",
       "      <td>Heikkinen, Miss. Laina</td>\n",
       "      <td>female</td>\n",
       "      <td>26.0</td>\n",
       "      <td>0</td>\n",
       "      <td>0</td>\n",
       "      <td>STON/O2. 3101282</td>\n",
       "      <td>7.9250</td>\n",
       "      <td>S</td>\n",
       "    </tr>\n",
       "    <tr>\n",
       "      <th>3</th>\n",
       "      <td>4</td>\n",
       "      <td>1</td>\n",
       "      <td>1</td>\n",
       "      <td>Futrelle, Mrs. Jacques Heath (Lily May Peel)</td>\n",
       "      <td>female</td>\n",
       "      <td>35.0</td>\n",
       "      <td>1</td>\n",
       "      <td>0</td>\n",
       "      <td>113803</td>\n",
       "      <td>53.1000</td>\n",
       "      <td>S</td>\n",
       "    </tr>\n",
       "    <tr>\n",
       "      <th>4</th>\n",
       "      <td>5</td>\n",
       "      <td>0</td>\n",
       "      <td>3</td>\n",
       "      <td>Allen, Mr. William Henry</td>\n",
       "      <td>male</td>\n",
       "      <td>35.0</td>\n",
       "      <td>0</td>\n",
       "      <td>0</td>\n",
       "      <td>373450</td>\n",
       "      <td>8.0500</td>\n",
       "      <td>S</td>\n",
       "    </tr>\n",
       "  </tbody>\n",
       "</table>\n",
       "</div>"
      ],
      "text/plain": [
       "   PassengerId  Survived  Pclass  \\\n",
       "0            1         0       3   \n",
       "1            2         1       1   \n",
       "2            3         1       3   \n",
       "3            4         1       1   \n",
       "4            5         0       3   \n",
       "\n",
       "                                                Name     Sex   Age  SibSp  \\\n",
       "0                            Braund, Mr. Owen Harris    male  22.0      1   \n",
       "1  Cumings, Mrs. John Bradley (Florence Briggs Th...  female  38.0      1   \n",
       "2                             Heikkinen, Miss. Laina  female  26.0      0   \n",
       "3       Futrelle, Mrs. Jacques Heath (Lily May Peel)  female  35.0      1   \n",
       "4                           Allen, Mr. William Henry    male  35.0      0   \n",
       "\n",
       "   Parch            Ticket     Fare Embarked  \n",
       "0      0         A/5 21171   7.2500        S  \n",
       "1      0          PC 17599  71.2833        C  \n",
       "2      0  STON/O2. 3101282   7.9250        S  \n",
       "3      0            113803  53.1000        S  \n",
       "4      0            373450   8.0500        S  "
      ]
     },
     "execution_count": 25,
     "metadata": {},
     "output_type": "execute_result"
    }
   ],
   "source": [
    "titan.head()"
   ]
  },
  {
   "cell_type": "code",
   "execution_count": 26,
   "id": "ef90b67b",
   "metadata": {
    "execution": {
     "iopub.execute_input": "2023-10-23T00:39:21.823596Z",
     "iopub.status.busy": "2023-10-23T00:39:21.822899Z",
     "iopub.status.idle": "2023-10-23T00:39:21.839474Z",
     "shell.execute_reply": "2023-10-23T00:39:21.837990Z"
    },
    "papermill": {
     "duration": 0.044026,
     "end_time": "2023-10-23T00:39:21.842305",
     "exception": false,
     "start_time": "2023-10-23T00:39:21.798279",
     "status": "completed"
    },
    "tags": []
   },
   "outputs": [
    {
     "data": {
      "text/html": [
       "<div>\n",
       "<style scoped>\n",
       "    .dataframe tbody tr th:only-of-type {\n",
       "        vertical-align: middle;\n",
       "    }\n",
       "\n",
       "    .dataframe tbody tr th {\n",
       "        vertical-align: top;\n",
       "    }\n",
       "\n",
       "    .dataframe thead th {\n",
       "        text-align: right;\n",
       "    }\n",
       "</style>\n",
       "<table border=\"1\" class=\"dataframe\">\n",
       "  <thead>\n",
       "    <tr style=\"text-align: right;\">\n",
       "      <th></th>\n",
       "      <th>female</th>\n",
       "      <th>male</th>\n",
       "    </tr>\n",
       "  </thead>\n",
       "  <tbody>\n",
       "    <tr>\n",
       "      <th>0</th>\n",
       "      <td>0</td>\n",
       "      <td>1</td>\n",
       "    </tr>\n",
       "    <tr>\n",
       "      <th>1</th>\n",
       "      <td>1</td>\n",
       "      <td>0</td>\n",
       "    </tr>\n",
       "    <tr>\n",
       "      <th>2</th>\n",
       "      <td>1</td>\n",
       "      <td>0</td>\n",
       "    </tr>\n",
       "    <tr>\n",
       "      <th>3</th>\n",
       "      <td>1</td>\n",
       "      <td>0</td>\n",
       "    </tr>\n",
       "    <tr>\n",
       "      <th>4</th>\n",
       "      <td>0</td>\n",
       "      <td>1</td>\n",
       "    </tr>\n",
       "    <tr>\n",
       "      <th>...</th>\n",
       "      <td>...</td>\n",
       "      <td>...</td>\n",
       "    </tr>\n",
       "    <tr>\n",
       "      <th>886</th>\n",
       "      <td>0</td>\n",
       "      <td>1</td>\n",
       "    </tr>\n",
       "    <tr>\n",
       "      <th>887</th>\n",
       "      <td>1</td>\n",
       "      <td>0</td>\n",
       "    </tr>\n",
       "    <tr>\n",
       "      <th>888</th>\n",
       "      <td>1</td>\n",
       "      <td>0</td>\n",
       "    </tr>\n",
       "    <tr>\n",
       "      <th>889</th>\n",
       "      <td>0</td>\n",
       "      <td>1</td>\n",
       "    </tr>\n",
       "    <tr>\n",
       "      <th>890</th>\n",
       "      <td>0</td>\n",
       "      <td>1</td>\n",
       "    </tr>\n",
       "  </tbody>\n",
       "</table>\n",
       "<p>889 rows × 2 columns</p>\n",
       "</div>"
      ],
      "text/plain": [
       "     female  male\n",
       "0         0     1\n",
       "1         1     0\n",
       "2         1     0\n",
       "3         1     0\n",
       "4         0     1\n",
       "..      ...   ...\n",
       "886       0     1\n",
       "887       1     0\n",
       "888       1     0\n",
       "889       0     1\n",
       "890       0     1\n",
       "\n",
       "[889 rows x 2 columns]"
      ]
     },
     "execution_count": 26,
     "metadata": {},
     "output_type": "execute_result"
    }
   ],
   "source": [
    "pd.get_dummies(titan['Sex'])"
   ]
  },
  {
   "cell_type": "code",
   "execution_count": 27,
   "id": "34d1058f",
   "metadata": {
    "execution": {
     "iopub.execute_input": "2023-10-23T00:39:21.893623Z",
     "iopub.status.busy": "2023-10-23T00:39:21.893231Z",
     "iopub.status.idle": "2023-10-23T00:39:21.907705Z",
     "shell.execute_reply": "2023-10-23T00:39:21.906482Z"
    },
    "papermill": {
     "duration": 0.042943,
     "end_time": "2023-10-23T00:39:21.910052",
     "exception": false,
     "start_time": "2023-10-23T00:39:21.867109",
     "status": "completed"
    },
    "tags": []
   },
   "outputs": [
    {
     "data": {
      "text/html": [
       "<div>\n",
       "<style scoped>\n",
       "    .dataframe tbody tr th:only-of-type {\n",
       "        vertical-align: middle;\n",
       "    }\n",
       "\n",
       "    .dataframe tbody tr th {\n",
       "        vertical-align: top;\n",
       "    }\n",
       "\n",
       "    .dataframe thead th {\n",
       "        text-align: right;\n",
       "    }\n",
       "</style>\n",
       "<table border=\"1\" class=\"dataframe\">\n",
       "  <thead>\n",
       "    <tr style=\"text-align: right;\">\n",
       "      <th></th>\n",
       "      <th>male</th>\n",
       "    </tr>\n",
       "  </thead>\n",
       "  <tbody>\n",
       "    <tr>\n",
       "      <th>0</th>\n",
       "      <td>1</td>\n",
       "    </tr>\n",
       "    <tr>\n",
       "      <th>1</th>\n",
       "      <td>0</td>\n",
       "    </tr>\n",
       "    <tr>\n",
       "      <th>2</th>\n",
       "      <td>0</td>\n",
       "    </tr>\n",
       "    <tr>\n",
       "      <th>3</th>\n",
       "      <td>0</td>\n",
       "    </tr>\n",
       "    <tr>\n",
       "      <th>4</th>\n",
       "      <td>1</td>\n",
       "    </tr>\n",
       "    <tr>\n",
       "      <th>...</th>\n",
       "      <td>...</td>\n",
       "    </tr>\n",
       "    <tr>\n",
       "      <th>886</th>\n",
       "      <td>1</td>\n",
       "    </tr>\n",
       "    <tr>\n",
       "      <th>887</th>\n",
       "      <td>0</td>\n",
       "    </tr>\n",
       "    <tr>\n",
       "      <th>888</th>\n",
       "      <td>0</td>\n",
       "    </tr>\n",
       "    <tr>\n",
       "      <th>889</th>\n",
       "      <td>1</td>\n",
       "    </tr>\n",
       "    <tr>\n",
       "      <th>890</th>\n",
       "      <td>1</td>\n",
       "    </tr>\n",
       "  </tbody>\n",
       "</table>\n",
       "<p>889 rows × 1 columns</p>\n",
       "</div>"
      ],
      "text/plain": [
       "     male\n",
       "0       1\n",
       "1       0\n",
       "2       0\n",
       "3       0\n",
       "4       1\n",
       "..    ...\n",
       "886     1\n",
       "887     0\n",
       "888     0\n",
       "889     1\n",
       "890     1\n",
       "\n",
       "[889 rows x 1 columns]"
      ]
     },
     "execution_count": 27,
     "metadata": {},
     "output_type": "execute_result"
    }
   ],
   "source": [
    "sex = pd.get_dummies(titan['Sex'],drop_first=True)\n",
    "sex"
   ]
  },
  {
   "cell_type": "code",
   "execution_count": 28,
   "id": "5c4d5f93",
   "metadata": {
    "execution": {
     "iopub.execute_input": "2023-10-23T00:39:21.961587Z",
     "iopub.status.busy": "2023-10-23T00:39:21.960447Z",
     "iopub.status.idle": "2023-10-23T00:39:21.976748Z",
     "shell.execute_reply": "2023-10-23T00:39:21.975281Z"
    },
    "papermill": {
     "duration": 0.044163,
     "end_time": "2023-10-23T00:39:21.979456",
     "exception": false,
     "start_time": "2023-10-23T00:39:21.935293",
     "status": "completed"
    },
    "tags": []
   },
   "outputs": [
    {
     "data": {
      "text/html": [
       "<div>\n",
       "<style scoped>\n",
       "    .dataframe tbody tr th:only-of-type {\n",
       "        vertical-align: middle;\n",
       "    }\n",
       "\n",
       "    .dataframe tbody tr th {\n",
       "        vertical-align: top;\n",
       "    }\n",
       "\n",
       "    .dataframe thead th {\n",
       "        text-align: right;\n",
       "    }\n",
       "</style>\n",
       "<table border=\"1\" class=\"dataframe\">\n",
       "  <thead>\n",
       "    <tr style=\"text-align: right;\">\n",
       "      <th></th>\n",
       "      <th>Q</th>\n",
       "      <th>S</th>\n",
       "    </tr>\n",
       "  </thead>\n",
       "  <tbody>\n",
       "    <tr>\n",
       "      <th>0</th>\n",
       "      <td>0</td>\n",
       "      <td>1</td>\n",
       "    </tr>\n",
       "    <tr>\n",
       "      <th>1</th>\n",
       "      <td>0</td>\n",
       "      <td>0</td>\n",
       "    </tr>\n",
       "    <tr>\n",
       "      <th>2</th>\n",
       "      <td>0</td>\n",
       "      <td>1</td>\n",
       "    </tr>\n",
       "    <tr>\n",
       "      <th>3</th>\n",
       "      <td>0</td>\n",
       "      <td>1</td>\n",
       "    </tr>\n",
       "    <tr>\n",
       "      <th>4</th>\n",
       "      <td>0</td>\n",
       "      <td>1</td>\n",
       "    </tr>\n",
       "    <tr>\n",
       "      <th>...</th>\n",
       "      <td>...</td>\n",
       "      <td>...</td>\n",
       "    </tr>\n",
       "    <tr>\n",
       "      <th>886</th>\n",
       "      <td>0</td>\n",
       "      <td>1</td>\n",
       "    </tr>\n",
       "    <tr>\n",
       "      <th>887</th>\n",
       "      <td>0</td>\n",
       "      <td>1</td>\n",
       "    </tr>\n",
       "    <tr>\n",
       "      <th>888</th>\n",
       "      <td>0</td>\n",
       "      <td>1</td>\n",
       "    </tr>\n",
       "    <tr>\n",
       "      <th>889</th>\n",
       "      <td>0</td>\n",
       "      <td>0</td>\n",
       "    </tr>\n",
       "    <tr>\n",
       "      <th>890</th>\n",
       "      <td>1</td>\n",
       "      <td>0</td>\n",
       "    </tr>\n",
       "  </tbody>\n",
       "</table>\n",
       "<p>889 rows × 2 columns</p>\n",
       "</div>"
      ],
      "text/plain": [
       "     Q  S\n",
       "0    0  1\n",
       "1    0  0\n",
       "2    0  1\n",
       "3    0  1\n",
       "4    0  1\n",
       "..  .. ..\n",
       "886  0  1\n",
       "887  0  1\n",
       "888  0  1\n",
       "889  0  0\n",
       "890  1  0\n",
       "\n",
       "[889 rows x 2 columns]"
      ]
     },
     "execution_count": 28,
     "metadata": {},
     "output_type": "execute_result"
    }
   ],
   "source": [
    "embarked = pd.get_dummies(titan['Embarked'],drop_first=True)\n",
    "embarked"
   ]
  },
  {
   "cell_type": "code",
   "execution_count": 29,
   "id": "45b6aeab",
   "metadata": {
    "execution": {
     "iopub.execute_input": "2023-10-23T00:39:22.030720Z",
     "iopub.status.busy": "2023-10-23T00:39:22.030177Z",
     "iopub.status.idle": "2023-10-23T00:39:22.052002Z",
     "shell.execute_reply": "2023-10-23T00:39:22.050878Z"
    },
    "papermill": {
     "duration": 0.0499,
     "end_time": "2023-10-23T00:39:22.054359",
     "exception": false,
     "start_time": "2023-10-23T00:39:22.004459",
     "status": "completed"
    },
    "tags": []
   },
   "outputs": [
    {
     "data": {
      "text/html": [
       "<div>\n",
       "<style scoped>\n",
       "    .dataframe tbody tr th:only-of-type {\n",
       "        vertical-align: middle;\n",
       "    }\n",
       "\n",
       "    .dataframe tbody tr th {\n",
       "        vertical-align: top;\n",
       "    }\n",
       "\n",
       "    .dataframe thead th {\n",
       "        text-align: right;\n",
       "    }\n",
       "</style>\n",
       "<table border=\"1\" class=\"dataframe\">\n",
       "  <thead>\n",
       "    <tr style=\"text-align: right;\">\n",
       "      <th></th>\n",
       "      <th>PassengerId</th>\n",
       "      <th>Survived</th>\n",
       "      <th>Pclass</th>\n",
       "      <th>Name</th>\n",
       "      <th>Sex</th>\n",
       "      <th>Age</th>\n",
       "      <th>SibSp</th>\n",
       "      <th>Parch</th>\n",
       "      <th>Ticket</th>\n",
       "      <th>Fare</th>\n",
       "      <th>Embarked</th>\n",
       "      <th>male</th>\n",
       "      <th>Q</th>\n",
       "      <th>S</th>\n",
       "    </tr>\n",
       "  </thead>\n",
       "  <tbody>\n",
       "    <tr>\n",
       "      <th>0</th>\n",
       "      <td>1</td>\n",
       "      <td>0</td>\n",
       "      <td>3</td>\n",
       "      <td>Braund, Mr. Owen Harris</td>\n",
       "      <td>male</td>\n",
       "      <td>22.0</td>\n",
       "      <td>1</td>\n",
       "      <td>0</td>\n",
       "      <td>A/5 21171</td>\n",
       "      <td>7.2500</td>\n",
       "      <td>S</td>\n",
       "      <td>1</td>\n",
       "      <td>0</td>\n",
       "      <td>1</td>\n",
       "    </tr>\n",
       "    <tr>\n",
       "      <th>1</th>\n",
       "      <td>2</td>\n",
       "      <td>1</td>\n",
       "      <td>1</td>\n",
       "      <td>Cumings, Mrs. John Bradley (Florence Briggs Th...</td>\n",
       "      <td>female</td>\n",
       "      <td>38.0</td>\n",
       "      <td>1</td>\n",
       "      <td>0</td>\n",
       "      <td>PC 17599</td>\n",
       "      <td>71.2833</td>\n",
       "      <td>C</td>\n",
       "      <td>0</td>\n",
       "      <td>0</td>\n",
       "      <td>0</td>\n",
       "    </tr>\n",
       "    <tr>\n",
       "      <th>2</th>\n",
       "      <td>3</td>\n",
       "      <td>1</td>\n",
       "      <td>3</td>\n",
       "      <td>Heikkinen, Miss. Laina</td>\n",
       "      <td>female</td>\n",
       "      <td>26.0</td>\n",
       "      <td>0</td>\n",
       "      <td>0</td>\n",
       "      <td>STON/O2. 3101282</td>\n",
       "      <td>7.9250</td>\n",
       "      <td>S</td>\n",
       "      <td>0</td>\n",
       "      <td>0</td>\n",
       "      <td>1</td>\n",
       "    </tr>\n",
       "    <tr>\n",
       "      <th>3</th>\n",
       "      <td>4</td>\n",
       "      <td>1</td>\n",
       "      <td>1</td>\n",
       "      <td>Futrelle, Mrs. Jacques Heath (Lily May Peel)</td>\n",
       "      <td>female</td>\n",
       "      <td>35.0</td>\n",
       "      <td>1</td>\n",
       "      <td>0</td>\n",
       "      <td>113803</td>\n",
       "      <td>53.1000</td>\n",
       "      <td>S</td>\n",
       "      <td>0</td>\n",
       "      <td>0</td>\n",
       "      <td>1</td>\n",
       "    </tr>\n",
       "    <tr>\n",
       "      <th>4</th>\n",
       "      <td>5</td>\n",
       "      <td>0</td>\n",
       "      <td>3</td>\n",
       "      <td>Allen, Mr. William Henry</td>\n",
       "      <td>male</td>\n",
       "      <td>35.0</td>\n",
       "      <td>0</td>\n",
       "      <td>0</td>\n",
       "      <td>373450</td>\n",
       "      <td>8.0500</td>\n",
       "      <td>S</td>\n",
       "      <td>1</td>\n",
       "      <td>0</td>\n",
       "      <td>1</td>\n",
       "    </tr>\n",
       "  </tbody>\n",
       "</table>\n",
       "</div>"
      ],
      "text/plain": [
       "   PassengerId  Survived  Pclass  \\\n",
       "0            1         0       3   \n",
       "1            2         1       1   \n",
       "2            3         1       3   \n",
       "3            4         1       1   \n",
       "4            5         0       3   \n",
       "\n",
       "                                                Name     Sex   Age  SibSp  \\\n",
       "0                            Braund, Mr. Owen Harris    male  22.0      1   \n",
       "1  Cumings, Mrs. John Bradley (Florence Briggs Th...  female  38.0      1   \n",
       "2                             Heikkinen, Miss. Laina  female  26.0      0   \n",
       "3       Futrelle, Mrs. Jacques Heath (Lily May Peel)  female  35.0      1   \n",
       "4                           Allen, Mr. William Henry    male  35.0      0   \n",
       "\n",
       "   Parch            Ticket     Fare Embarked  male  Q  S  \n",
       "0      0         A/5 21171   7.2500        S     1  0  1  \n",
       "1      0          PC 17599  71.2833        C     0  0  0  \n",
       "2      0  STON/O2. 3101282   7.9250        S     0  0  1  \n",
       "3      0            113803  53.1000        S     0  0  1  \n",
       "4      0            373450   8.0500        S     1  0  1  "
      ]
     },
     "execution_count": 29,
     "metadata": {},
     "output_type": "execute_result"
    }
   ],
   "source": [
    "titan = pd.concat([titan,sex,embarked],axis=1)\n",
    "titan.head()"
   ]
  },
  {
   "cell_type": "code",
   "execution_count": 30,
   "id": "512edade",
   "metadata": {
    "execution": {
     "iopub.execute_input": "2023-10-23T00:39:22.106853Z",
     "iopub.status.busy": "2023-10-23T00:39:22.105629Z",
     "iopub.status.idle": "2023-10-23T00:39:22.125538Z",
     "shell.execute_reply": "2023-10-23T00:39:22.124321Z"
    },
    "papermill": {
     "duration": 0.048347,
     "end_time": "2023-10-23T00:39:22.127970",
     "exception": false,
     "start_time": "2023-10-23T00:39:22.079623",
     "status": "completed"
    },
    "tags": []
   },
   "outputs": [
    {
     "data": {
      "text/html": [
       "<div>\n",
       "<style scoped>\n",
       "    .dataframe tbody tr th:only-of-type {\n",
       "        vertical-align: middle;\n",
       "    }\n",
       "\n",
       "    .dataframe tbody tr th {\n",
       "        vertical-align: top;\n",
       "    }\n",
       "\n",
       "    .dataframe thead th {\n",
       "        text-align: right;\n",
       "    }\n",
       "</style>\n",
       "<table border=\"1\" class=\"dataframe\">\n",
       "  <thead>\n",
       "    <tr style=\"text-align: right;\">\n",
       "      <th></th>\n",
       "      <th>PassengerId</th>\n",
       "      <th>Survived</th>\n",
       "      <th>Pclass</th>\n",
       "      <th>Name</th>\n",
       "      <th>Sex</th>\n",
       "      <th>Age</th>\n",
       "      <th>SibSp</th>\n",
       "      <th>Parch</th>\n",
       "      <th>Ticket</th>\n",
       "      <th>Fare</th>\n",
       "      <th>Embarked</th>\n",
       "      <th>male</th>\n",
       "    </tr>\n",
       "  </thead>\n",
       "  <tbody>\n",
       "    <tr>\n",
       "      <th>0</th>\n",
       "      <td>1</td>\n",
       "      <td>0</td>\n",
       "      <td>3</td>\n",
       "      <td>Braund, Mr. Owen Harris</td>\n",
       "      <td>male</td>\n",
       "      <td>22.0</td>\n",
       "      <td>1</td>\n",
       "      <td>0</td>\n",
       "      <td>A/5 21171</td>\n",
       "      <td>7.2500</td>\n",
       "      <td>S</td>\n",
       "      <td>1</td>\n",
       "    </tr>\n",
       "    <tr>\n",
       "      <th>1</th>\n",
       "      <td>2</td>\n",
       "      <td>1</td>\n",
       "      <td>1</td>\n",
       "      <td>Cumings, Mrs. John Bradley (Florence Briggs Th...</td>\n",
       "      <td>female</td>\n",
       "      <td>38.0</td>\n",
       "      <td>1</td>\n",
       "      <td>0</td>\n",
       "      <td>PC 17599</td>\n",
       "      <td>71.2833</td>\n",
       "      <td>C</td>\n",
       "      <td>0</td>\n",
       "    </tr>\n",
       "    <tr>\n",
       "      <th>2</th>\n",
       "      <td>3</td>\n",
       "      <td>1</td>\n",
       "      <td>3</td>\n",
       "      <td>Heikkinen, Miss. Laina</td>\n",
       "      <td>female</td>\n",
       "      <td>26.0</td>\n",
       "      <td>0</td>\n",
       "      <td>0</td>\n",
       "      <td>STON/O2. 3101282</td>\n",
       "      <td>7.9250</td>\n",
       "      <td>S</td>\n",
       "      <td>0</td>\n",
       "    </tr>\n",
       "    <tr>\n",
       "      <th>3</th>\n",
       "      <td>4</td>\n",
       "      <td>1</td>\n",
       "      <td>1</td>\n",
       "      <td>Futrelle, Mrs. Jacques Heath (Lily May Peel)</td>\n",
       "      <td>female</td>\n",
       "      <td>35.0</td>\n",
       "      <td>1</td>\n",
       "      <td>0</td>\n",
       "      <td>113803</td>\n",
       "      <td>53.1000</td>\n",
       "      <td>S</td>\n",
       "      <td>0</td>\n",
       "    </tr>\n",
       "    <tr>\n",
       "      <th>4</th>\n",
       "      <td>5</td>\n",
       "      <td>0</td>\n",
       "      <td>3</td>\n",
       "      <td>Allen, Mr. William Henry</td>\n",
       "      <td>male</td>\n",
       "      <td>35.0</td>\n",
       "      <td>0</td>\n",
       "      <td>0</td>\n",
       "      <td>373450</td>\n",
       "      <td>8.0500</td>\n",
       "      <td>S</td>\n",
       "      <td>1</td>\n",
       "    </tr>\n",
       "  </tbody>\n",
       "</table>\n",
       "</div>"
      ],
      "text/plain": [
       "   PassengerId  Survived  Pclass  \\\n",
       "0            1         0       3   \n",
       "1            2         1       1   \n",
       "2            3         1       3   \n",
       "3            4         1       1   \n",
       "4            5         0       3   \n",
       "\n",
       "                                                Name     Sex   Age  SibSp  \\\n",
       "0                            Braund, Mr. Owen Harris    male  22.0      1   \n",
       "1  Cumings, Mrs. John Bradley (Florence Briggs Th...  female  38.0      1   \n",
       "2                             Heikkinen, Miss. Laina  female  26.0      0   \n",
       "3       Futrelle, Mrs. Jacques Heath (Lily May Peel)  female  35.0      1   \n",
       "4                           Allen, Mr. William Henry    male  35.0      0   \n",
       "\n",
       "   Parch            Ticket     Fare Embarked  male  \n",
       "0      0         A/5 21171   7.2500        S     1  \n",
       "1      0          PC 17599  71.2833        C     0  \n",
       "2      0  STON/O2. 3101282   7.9250        S     0  \n",
       "3      0            113803  53.1000        S     0  \n",
       "4      0            373450   8.0500        S     1  "
      ]
     },
     "execution_count": 30,
     "metadata": {},
     "output_type": "execute_result"
    }
   ],
   "source": [
    "titan.drop(['Q','S'],axis=1,inplace=True)\n",
    "titan.head()"
   ]
  },
  {
   "cell_type": "code",
   "execution_count": 31,
   "id": "f6057beb",
   "metadata": {
    "execution": {
     "iopub.execute_input": "2023-10-23T00:39:22.180682Z",
     "iopub.status.busy": "2023-10-23T00:39:22.179894Z",
     "iopub.status.idle": "2023-10-23T00:39:22.196050Z",
     "shell.execute_reply": "2023-10-23T00:39:22.194876Z"
    },
    "papermill": {
     "duration": 0.04565,
     "end_time": "2023-10-23T00:39:22.198701",
     "exception": false,
     "start_time": "2023-10-23T00:39:22.153051",
     "status": "completed"
    },
    "tags": []
   },
   "outputs": [
    {
     "data": {
      "text/html": [
       "<div>\n",
       "<style scoped>\n",
       "    .dataframe tbody tr th:only-of-type {\n",
       "        vertical-align: middle;\n",
       "    }\n",
       "\n",
       "    .dataframe tbody tr th {\n",
       "        vertical-align: top;\n",
       "    }\n",
       "\n",
       "    .dataframe thead th {\n",
       "        text-align: right;\n",
       "    }\n",
       "</style>\n",
       "<table border=\"1\" class=\"dataframe\">\n",
       "  <thead>\n",
       "    <tr style=\"text-align: right;\">\n",
       "      <th></th>\n",
       "      <th>Survived</th>\n",
       "      <th>Pclass</th>\n",
       "      <th>Age</th>\n",
       "      <th>SibSp</th>\n",
       "      <th>Parch</th>\n",
       "      <th>Fare</th>\n",
       "      <th>male</th>\n",
       "    </tr>\n",
       "  </thead>\n",
       "  <tbody>\n",
       "    <tr>\n",
       "      <th>0</th>\n",
       "      <td>0</td>\n",
       "      <td>3</td>\n",
       "      <td>22.0</td>\n",
       "      <td>1</td>\n",
       "      <td>0</td>\n",
       "      <td>7.2500</td>\n",
       "      <td>1</td>\n",
       "    </tr>\n",
       "    <tr>\n",
       "      <th>1</th>\n",
       "      <td>1</td>\n",
       "      <td>1</td>\n",
       "      <td>38.0</td>\n",
       "      <td>1</td>\n",
       "      <td>0</td>\n",
       "      <td>71.2833</td>\n",
       "      <td>0</td>\n",
       "    </tr>\n",
       "    <tr>\n",
       "      <th>2</th>\n",
       "      <td>1</td>\n",
       "      <td>3</td>\n",
       "      <td>26.0</td>\n",
       "      <td>0</td>\n",
       "      <td>0</td>\n",
       "      <td>7.9250</td>\n",
       "      <td>0</td>\n",
       "    </tr>\n",
       "    <tr>\n",
       "      <th>3</th>\n",
       "      <td>1</td>\n",
       "      <td>1</td>\n",
       "      <td>35.0</td>\n",
       "      <td>1</td>\n",
       "      <td>0</td>\n",
       "      <td>53.1000</td>\n",
       "      <td>0</td>\n",
       "    </tr>\n",
       "    <tr>\n",
       "      <th>4</th>\n",
       "      <td>0</td>\n",
       "      <td>3</td>\n",
       "      <td>35.0</td>\n",
       "      <td>0</td>\n",
       "      <td>0</td>\n",
       "      <td>8.0500</td>\n",
       "      <td>1</td>\n",
       "    </tr>\n",
       "  </tbody>\n",
       "</table>\n",
       "</div>"
      ],
      "text/plain": [
       "   Survived  Pclass   Age  SibSp  Parch     Fare  male\n",
       "0         0       3  22.0      1      0   7.2500     1\n",
       "1         1       1  38.0      1      0  71.2833     0\n",
       "2         1       3  26.0      0      0   7.9250     0\n",
       "3         1       1  35.0      1      0  53.1000     0\n",
       "4         0       3  35.0      0      0   8.0500     1"
      ]
     },
     "execution_count": 31,
     "metadata": {},
     "output_type": "execute_result"
    }
   ],
   "source": [
    "titan.drop(['PassengerId','Name','Sex','Ticket','Embarked'],inplace=True,axis=1)\n",
    "titan.head()"
   ]
  },
  {
   "cell_type": "markdown",
   "id": "3a763cda",
   "metadata": {
    "papermill": {
     "duration": 0.025463,
     "end_time": "2023-10-23T00:39:22.249785",
     "exception": false,
     "start_time": "2023-10-23T00:39:22.224322",
     "status": "completed"
    },
    "tags": []
   },
   "source": [
    "# # Logistic Regression"
   ]
  },
  {
   "cell_type": "code",
   "execution_count": 32,
   "id": "0797f65c",
   "metadata": {
    "execution": {
     "iopub.execute_input": "2023-10-23T00:39:22.302026Z",
     "iopub.status.busy": "2023-10-23T00:39:22.301203Z",
     "iopub.status.idle": "2023-10-23T00:39:22.307764Z",
     "shell.execute_reply": "2023-10-23T00:39:22.306893Z"
    },
    "papermill": {
     "duration": 0.035666,
     "end_time": "2023-10-23T00:39:22.310326",
     "exception": false,
     "start_time": "2023-10-23T00:39:22.274660",
     "status": "completed"
    },
    "tags": []
   },
   "outputs": [],
   "source": [
    "X = titan.drop('Survived',axis=1)\n",
    "y = titan['Survived']"
   ]
  },
  {
   "cell_type": "code",
   "execution_count": 33,
   "id": "1817bdee",
   "metadata": {
    "execution": {
     "iopub.execute_input": "2023-10-23T00:39:22.363255Z",
     "iopub.status.busy": "2023-10-23T00:39:22.362407Z",
     "iopub.status.idle": "2023-10-23T00:39:22.672553Z",
     "shell.execute_reply": "2023-10-23T00:39:22.671500Z"
    },
    "papermill": {
     "duration": 0.340348,
     "end_time": "2023-10-23T00:39:22.675340",
     "exception": false,
     "start_time": "2023-10-23T00:39:22.334992",
     "status": "completed"
    },
    "tags": []
   },
   "outputs": [],
   "source": [
    "from sklearn.model_selection import train_test_split"
   ]
  },
  {
   "cell_type": "code",
   "execution_count": 34,
   "id": "0774ec76",
   "metadata": {
    "execution": {
     "iopub.execute_input": "2023-10-23T00:39:22.727865Z",
     "iopub.status.busy": "2023-10-23T00:39:22.727456Z",
     "iopub.status.idle": "2023-10-23T00:39:22.736765Z",
     "shell.execute_reply": "2023-10-23T00:39:22.735392Z"
    },
    "papermill": {
     "duration": 0.038875,
     "end_time": "2023-10-23T00:39:22.739379",
     "exception": false,
     "start_time": "2023-10-23T00:39:22.700504",
     "status": "completed"
    },
    "tags": []
   },
   "outputs": [],
   "source": [
    "X_train,X_test,y_train,y_test = train_test_split(X,y,test_size=0.33,random_state=101)"
   ]
  },
  {
   "cell_type": "code",
   "execution_count": 35,
   "id": "f2168fac",
   "metadata": {
    "execution": {
     "iopub.execute_input": "2023-10-23T00:39:22.791030Z",
     "iopub.status.busy": "2023-10-23T00:39:22.790581Z",
     "iopub.status.idle": "2023-10-23T00:39:23.012891Z",
     "shell.execute_reply": "2023-10-23T00:39:23.011645Z"
    },
    "papermill": {
     "duration": 0.251982,
     "end_time": "2023-10-23T00:39:23.016226",
     "exception": false,
     "start_time": "2023-10-23T00:39:22.764244",
     "status": "completed"
    },
    "tags": []
   },
   "outputs": [],
   "source": [
    "from sklearn.linear_model import LogisticRegression"
   ]
  },
  {
   "cell_type": "code",
   "execution_count": 36,
   "id": "9f8dabb5",
   "metadata": {
    "execution": {
     "iopub.execute_input": "2023-10-23T00:39:23.070241Z",
     "iopub.status.busy": "2023-10-23T00:39:23.069796Z",
     "iopub.status.idle": "2023-10-23T00:39:23.075153Z",
     "shell.execute_reply": "2023-10-23T00:39:23.074074Z"
    },
    "papermill": {
     "duration": 0.035031,
     "end_time": "2023-10-23T00:39:23.077527",
     "exception": false,
     "start_time": "2023-10-23T00:39:23.042496",
     "status": "completed"
    },
    "tags": []
   },
   "outputs": [],
   "source": [
    "logreg = LogisticRegression()"
   ]
  },
  {
   "cell_type": "code",
   "execution_count": 37,
   "id": "d8e00ba4",
   "metadata": {
    "execution": {
     "iopub.execute_input": "2023-10-23T00:39:23.131075Z",
     "iopub.status.busy": "2023-10-23T00:39:23.128540Z",
     "iopub.status.idle": "2023-10-23T00:39:23.176316Z",
     "shell.execute_reply": "2023-10-23T00:39:23.175050Z"
    },
    "papermill": {
     "duration": 0.076991,
     "end_time": "2023-10-23T00:39:23.179390",
     "exception": false,
     "start_time": "2023-10-23T00:39:23.102399",
     "status": "completed"
    },
    "tags": []
   },
   "outputs": [
    {
     "data": {
      "text/html": [
       "<style>#sk-container-id-1 {color: black;}#sk-container-id-1 pre{padding: 0;}#sk-container-id-1 div.sk-toggleable {background-color: white;}#sk-container-id-1 label.sk-toggleable__label {cursor: pointer;display: block;width: 100%;margin-bottom: 0;padding: 0.3em;box-sizing: border-box;text-align: center;}#sk-container-id-1 label.sk-toggleable__label-arrow:before {content: \"▸\";float: left;margin-right: 0.25em;color: #696969;}#sk-container-id-1 label.sk-toggleable__label-arrow:hover:before {color: black;}#sk-container-id-1 div.sk-estimator:hover label.sk-toggleable__label-arrow:before {color: black;}#sk-container-id-1 div.sk-toggleable__content {max-height: 0;max-width: 0;overflow: hidden;text-align: left;background-color: #f0f8ff;}#sk-container-id-1 div.sk-toggleable__content pre {margin: 0.2em;color: black;border-radius: 0.25em;background-color: #f0f8ff;}#sk-container-id-1 input.sk-toggleable__control:checked~div.sk-toggleable__content {max-height: 200px;max-width: 100%;overflow: auto;}#sk-container-id-1 input.sk-toggleable__control:checked~label.sk-toggleable__label-arrow:before {content: \"▾\";}#sk-container-id-1 div.sk-estimator input.sk-toggleable__control:checked~label.sk-toggleable__label {background-color: #d4ebff;}#sk-container-id-1 div.sk-label input.sk-toggleable__control:checked~label.sk-toggleable__label {background-color: #d4ebff;}#sk-container-id-1 input.sk-hidden--visually {border: 0;clip: rect(1px 1px 1px 1px);clip: rect(1px, 1px, 1px, 1px);height: 1px;margin: -1px;overflow: hidden;padding: 0;position: absolute;width: 1px;}#sk-container-id-1 div.sk-estimator {font-family: monospace;background-color: #f0f8ff;border: 1px dotted black;border-radius: 0.25em;box-sizing: border-box;margin-bottom: 0.5em;}#sk-container-id-1 div.sk-estimator:hover {background-color: #d4ebff;}#sk-container-id-1 div.sk-parallel-item::after {content: \"\";width: 100%;border-bottom: 1px solid gray;flex-grow: 1;}#sk-container-id-1 div.sk-label:hover label.sk-toggleable__label {background-color: #d4ebff;}#sk-container-id-1 div.sk-serial::before {content: \"\";position: absolute;border-left: 1px solid gray;box-sizing: border-box;top: 0;bottom: 0;left: 50%;z-index: 0;}#sk-container-id-1 div.sk-serial {display: flex;flex-direction: column;align-items: center;background-color: white;padding-right: 0.2em;padding-left: 0.2em;position: relative;}#sk-container-id-1 div.sk-item {position: relative;z-index: 1;}#sk-container-id-1 div.sk-parallel {display: flex;align-items: stretch;justify-content: center;background-color: white;position: relative;}#sk-container-id-1 div.sk-item::before, #sk-container-id-1 div.sk-parallel-item::before {content: \"\";position: absolute;border-left: 1px solid gray;box-sizing: border-box;top: 0;bottom: 0;left: 50%;z-index: -1;}#sk-container-id-1 div.sk-parallel-item {display: flex;flex-direction: column;z-index: 1;position: relative;background-color: white;}#sk-container-id-1 div.sk-parallel-item:first-child::after {align-self: flex-end;width: 50%;}#sk-container-id-1 div.sk-parallel-item:last-child::after {align-self: flex-start;width: 50%;}#sk-container-id-1 div.sk-parallel-item:only-child::after {width: 0;}#sk-container-id-1 div.sk-dashed-wrapped {border: 1px dashed gray;margin: 0 0.4em 0.5em 0.4em;box-sizing: border-box;padding-bottom: 0.4em;background-color: white;}#sk-container-id-1 div.sk-label label {font-family: monospace;font-weight: bold;display: inline-block;line-height: 1.2em;}#sk-container-id-1 div.sk-label-container {text-align: center;}#sk-container-id-1 div.sk-container {/* jupyter's `normalize.less` sets `[hidden] { display: none; }` but bootstrap.min.css set `[hidden] { display: none !important; }` so we also need the `!important` here to be able to override the default hidden behavior on the sphinx rendered scikit-learn.org. See: https://github.com/scikit-learn/scikit-learn/issues/21755 */display: inline-block !important;position: relative;}#sk-container-id-1 div.sk-text-repr-fallback {display: none;}</style><div id=\"sk-container-id-1\" class=\"sk-top-container\"><div class=\"sk-text-repr-fallback\"><pre>LogisticRegression()</pre><b>In a Jupyter environment, please rerun this cell to show the HTML representation or trust the notebook. <br />On GitHub, the HTML representation is unable to render, please try loading this page with nbviewer.org.</b></div><div class=\"sk-container\" hidden><div class=\"sk-item\"><div class=\"sk-estimator sk-toggleable\"><input class=\"sk-toggleable__control sk-hidden--visually\" id=\"sk-estimator-id-1\" type=\"checkbox\" checked><label for=\"sk-estimator-id-1\" class=\"sk-toggleable__label sk-toggleable__label-arrow\">LogisticRegression</label><div class=\"sk-toggleable__content\"><pre>LogisticRegression()</pre></div></div></div></div></div>"
      ],
      "text/plain": [
       "LogisticRegression()"
      ]
     },
     "execution_count": 37,
     "metadata": {},
     "output_type": "execute_result"
    }
   ],
   "source": [
    "logreg.fit(X_train,y_train)"
   ]
  },
  {
   "cell_type": "code",
   "execution_count": 38,
   "id": "ba34a244",
   "metadata": {
    "execution": {
     "iopub.execute_input": "2023-10-23T00:39:23.234699Z",
     "iopub.status.busy": "2023-10-23T00:39:23.233621Z",
     "iopub.status.idle": "2023-10-23T00:39:23.246319Z",
     "shell.execute_reply": "2023-10-23T00:39:23.244980Z"
    },
    "papermill": {
     "duration": 0.043388,
     "end_time": "2023-10-23T00:39:23.249035",
     "exception": false,
     "start_time": "2023-10-23T00:39:23.205647",
     "status": "completed"
    },
    "tags": []
   },
   "outputs": [
    {
     "data": {
      "text/plain": [
       "array([0, 0, 1, 1, 0, 0, 0, 0, 0, 1, 1, 1, 0, 1, 0, 0, 1, 1, 1, 0, 0, 0,\n",
       "       0, 0, 0, 0, 1, 0, 0, 0, 0, 0, 0, 0, 0, 0, 1, 0, 0, 0, 1, 0, 0, 1,\n",
       "       1, 0, 1, 1, 0, 0, 1, 1, 0, 0, 0, 0, 0, 0, 0, 1, 1, 1, 1, 0, 0, 0,\n",
       "       0, 0, 0, 0, 0, 0, 1, 1, 0, 1, 0, 0, 0, 0, 0, 0, 0, 0, 0, 1, 0, 1,\n",
       "       0, 1, 1, 1, 0, 0, 0, 1, 1, 0, 0, 1, 0, 1, 0, 0, 1, 0, 1, 0, 0, 0,\n",
       "       0, 0, 1, 1, 0, 1, 0, 0, 1, 1, 0, 0, 0, 0, 0, 0, 1, 0, 1, 1, 0, 0,\n",
       "       1, 1, 0, 0, 0, 0, 0, 0, 0, 0, 0, 0, 0, 1, 0, 0, 0, 1, 0, 1, 1, 1,\n",
       "       0, 0, 1, 0, 1, 0, 0, 0, 0, 1, 0, 0, 0, 0, 0, 0, 1, 0, 1, 0, 0, 0,\n",
       "       0, 0, 1, 0, 1, 0, 0, 1, 0, 1, 1, 0, 0, 0, 0, 0, 1, 0, 0, 0, 1, 0,\n",
       "       0, 0, 0, 0, 1, 0, 1, 0, 0, 0, 0, 0, 0, 0, 1, 0, 0, 1, 1, 0, 0, 0,\n",
       "       1, 0, 0, 0, 1, 0, 0, 1, 0, 0, 1, 0, 0, 0, 1, 1, 1, 0, 1, 0, 0, 0,\n",
       "       0, 0, 1, 0, 0, 0, 1, 1, 0, 1, 0, 0, 0, 0, 0, 0, 0, 1, 1, 0, 0, 0,\n",
       "       0, 1, 1, 1, 1, 1, 0, 0, 1, 1, 1, 1, 1, 0, 0, 0, 0, 0, 0, 0, 0, 1,\n",
       "       0, 0, 1, 1, 1, 1, 1, 0], dtype=int64)"
      ]
     },
     "execution_count": 38,
     "metadata": {},
     "output_type": "execute_result"
    }
   ],
   "source": [
    "prediction = logreg.predict(X_test)\n",
    "prediction"
   ]
  },
  {
   "cell_type": "markdown",
   "id": "a03d99f1",
   "metadata": {
    "papermill": {
     "duration": 0.026047,
     "end_time": "2023-10-23T00:39:23.301497",
     "exception": false,
     "start_time": "2023-10-23T00:39:23.275450",
     "status": "completed"
    },
    "tags": []
   },
   "source": [
    "# # Classification Report"
   ]
  },
  {
   "cell_type": "code",
   "execution_count": 39,
   "id": "d51c7569",
   "metadata": {
    "execution": {
     "iopub.execute_input": "2023-10-23T00:39:23.357046Z",
     "iopub.status.busy": "2023-10-23T00:39:23.356586Z",
     "iopub.status.idle": "2023-10-23T00:39:23.361191Z",
     "shell.execute_reply": "2023-10-23T00:39:23.360241Z"
    },
    "papermill": {
     "duration": 0.035387,
     "end_time": "2023-10-23T00:39:23.363534",
     "exception": false,
     "start_time": "2023-10-23T00:39:23.328147",
     "status": "completed"
    },
    "tags": []
   },
   "outputs": [],
   "source": [
    "from sklearn.metrics import classification_report, confusion_matrix"
   ]
  },
  {
   "cell_type": "code",
   "execution_count": 40,
   "id": "395923b9",
   "metadata": {
    "execution": {
     "iopub.execute_input": "2023-10-23T00:39:23.418124Z",
     "iopub.status.busy": "2023-10-23T00:39:23.417056Z",
     "iopub.status.idle": "2023-10-23T00:39:23.431404Z",
     "shell.execute_reply": "2023-10-23T00:39:23.430249Z"
    },
    "papermill": {
     "duration": 0.046029,
     "end_time": "2023-10-23T00:39:23.435738",
     "exception": false,
     "start_time": "2023-10-23T00:39:23.389709",
     "status": "completed"
    },
    "tags": []
   },
   "outputs": [
    {
     "name": "stdout",
     "output_type": "stream",
     "text": [
      "              precision    recall  f1-score   support\n",
      "\n",
      "           0       0.81      0.91      0.85       174\n",
      "           1       0.84      0.68      0.75       120\n",
      "\n",
      "    accuracy                           0.82       294\n",
      "   macro avg       0.82      0.80      0.80       294\n",
      "weighted avg       0.82      0.82      0.81       294\n",
      "\n"
     ]
    }
   ],
   "source": [
    "print(classification_report(y_test,prediction))"
   ]
  },
  {
   "cell_type": "markdown",
   "id": "d3f37c0b",
   "metadata": {
    "papermill": {
     "duration": 0.026847,
     "end_time": "2023-10-23T00:39:23.489252",
     "exception": false,
     "start_time": "2023-10-23T00:39:23.462405",
     "status": "completed"
    },
    "tags": []
   },
   "source": [
    "# # Confusion Matrix"
   ]
  },
  {
   "cell_type": "code",
   "execution_count": 41,
   "id": "f08e8805",
   "metadata": {
    "execution": {
     "iopub.execute_input": "2023-10-23T00:39:23.544794Z",
     "iopub.status.busy": "2023-10-23T00:39:23.543586Z",
     "iopub.status.idle": "2023-10-23T00:39:23.553442Z",
     "shell.execute_reply": "2023-10-23T00:39:23.551969Z"
    },
    "papermill": {
     "duration": 0.041038,
     "end_time": "2023-10-23T00:39:23.556322",
     "exception": false,
     "start_time": "2023-10-23T00:39:23.515284",
     "status": "completed"
    },
    "tags": []
   },
   "outputs": [
    {
     "name": "stdout",
     "output_type": "stream",
     "text": [
      "[[158  16]\n",
      " [ 38  82]]\n"
     ]
    }
   ],
   "source": [
    "print(confusion_matrix(y_test,prediction))"
   ]
  },
  {
   "cell_type": "markdown",
   "id": "152bef58",
   "metadata": {
    "papermill": {
     "duration": 0.026431,
     "end_time": "2023-10-23T00:39:23.609098",
     "exception": false,
     "start_time": "2023-10-23T00:39:23.582667",
     "status": "completed"
    },
    "tags": []
   },
   "source": [
    "# # Accuracy_rate/ Error_rate"
   ]
  },
  {
   "cell_type": "code",
   "execution_count": 42,
   "id": "80ea0d54",
   "metadata": {
    "execution": {
     "iopub.execute_input": "2023-10-23T00:39:23.664295Z",
     "iopub.status.busy": "2023-10-23T00:39:23.663772Z",
     "iopub.status.idle": "2023-10-23T00:39:23.672600Z",
     "shell.execute_reply": "2023-10-23T00:39:23.671457Z"
    },
    "papermill": {
     "duration": 0.039344,
     "end_time": "2023-10-23T00:39:23.675137",
     "exception": false,
     "start_time": "2023-10-23T00:39:23.635793",
     "status": "completed"
    },
    "tags": []
   },
   "outputs": [
    {
     "name": "stdout",
     "output_type": "stream",
     "text": [
      "Accuracy rate : 0.80\n",
      "Error rate : 0.20\n"
     ]
    }
   ],
   "source": [
    "confusion_matrix = [[149,20],[39,87]]\n",
    "tn, fp = confusion_matrix[0]\n",
    "fn, tp = confusion_matrix[1]\n",
    "accuracy = (tp + tn) / (tp + tn + fp + fn)\n",
    "error_rate = (fp + fn) / (tp + tn + fp + fn)\n",
    "print(f'Accuracy rate : {accuracy:.2f}')\n",
    "print(f'Error rate : {error_rate:.2f}')"
   ]
  },
  {
   "cell_type": "markdown",
   "id": "a0af869a",
   "metadata": {
    "papermill": {
     "duration": 0.028507,
     "end_time": "2023-10-23T00:39:23.731070",
     "exception": false,
     "start_time": "2023-10-23T00:39:23.702563",
     "status": "completed"
    },
    "tags": []
   },
   "source": [
    "#  Coefficient"
   ]
  },
  {
   "cell_type": "code",
   "execution_count": 43,
   "id": "ea5c5ce9",
   "metadata": {
    "execution": {
     "iopub.execute_input": "2023-10-23T00:39:23.789343Z",
     "iopub.status.busy": "2023-10-23T00:39:23.788871Z",
     "iopub.status.idle": "2023-10-23T00:39:23.796370Z",
     "shell.execute_reply": "2023-10-23T00:39:23.795027Z"
    },
    "papermill": {
     "duration": 0.038755,
     "end_time": "2023-10-23T00:39:23.798923",
     "exception": false,
     "start_time": "2023-10-23T00:39:23.760168",
     "status": "completed"
    },
    "tags": []
   },
   "outputs": [
    {
     "data": {
      "text/plain": [
       "array([[-1.09375134e+00, -3.97497052e-02, -2.92631840e-01,\n",
       "        -8.60232606e-02,  2.07515369e-03, -2.55850783e+00]])"
      ]
     },
     "execution_count": 43,
     "metadata": {},
     "output_type": "execute_result"
    }
   ],
   "source": [
    "logreg.coef_"
   ]
  },
  {
   "cell_type": "markdown",
   "id": "3de8db81",
   "metadata": {
    "papermill": {
     "duration": 0.026337,
     "end_time": "2023-10-23T00:39:23.852123",
     "exception": false,
     "start_time": "2023-10-23T00:39:23.825786",
     "status": "completed"
    },
    "tags": []
   },
   "source": [
    "# Intercept"
   ]
  },
  {
   "cell_type": "code",
   "execution_count": 44,
   "id": "cd30c832",
   "metadata": {
    "execution": {
     "iopub.execute_input": "2023-10-23T00:39:23.910187Z",
     "iopub.status.busy": "2023-10-23T00:39:23.909556Z",
     "iopub.status.idle": "2023-10-23T00:39:23.917412Z",
     "shell.execute_reply": "2023-10-23T00:39:23.916248Z"
    },
    "papermill": {
     "duration": 0.041855,
     "end_time": "2023-10-23T00:39:23.920417",
     "exception": false,
     "start_time": "2023-10-23T00:39:23.878562",
     "status": "completed"
    },
    "tags": []
   },
   "outputs": [
    {
     "data": {
      "text/plain": [
       "array([4.72908299])"
      ]
     },
     "execution_count": 44,
     "metadata": {},
     "output_type": "execute_result"
    }
   ],
   "source": [
    "logreg.intercept_"
   ]
  }
 ],
 "metadata": {
  "kernelspec": {
   "display_name": "Python 3 (ipykernel)",
   "language": "python",
   "name": "python3"
  },
  "language_info": {
   "codemirror_mode": {
    "name": "ipython",
    "version": 3
   },
   "file_extension": ".py",
   "mimetype": "text/x-python",
   "name": "python",
   "nbconvert_exporter": "python",
   "pygments_lexer": "ipython3",
   "version": "3.11.4"
  },
  "papermill": {
   "default_parameters": {},
   "duration": 14.918812,
   "end_time": "2023-10-23T00:39:24.670134",
   "environment_variables": {},
   "exception": null,
   "input_path": "__notebook__.ipynb",
   "output_path": "__notebook__.ipynb",
   "parameters": {},
   "start_time": "2023-10-23T00:39:09.751322",
   "version": "2.4.0"
  }
 },
 "nbformat": 4,
 "nbformat_minor": 5
}
